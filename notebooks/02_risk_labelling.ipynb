{
 "cells": [
  {
   "cell_type": "code",
   "execution_count": null,
   "id": "63dae99d",
   "metadata": {},
   "outputs": [],
   "source": [
    "import pandas as pd\n",
    "import matplotlib.pyplot as plt\n",
    "import seaborn as sns\n",
    "import sys\n",
    "import os\n",
    "\n",
    "sys.path.append(os.path.abspath('../utils'))\n",
    "from risk_profile_rules import assign_risk_profile\n"
   ]
  },
  {
   "cell_type": "code",
   "execution_count": null,
   "id": "340a9a0e",
   "metadata": {},
   "outputs": [],
   "source": [
    "\n",
    "#load dataset\n",
    "df = pd.read_csv('../data/bank.csv', sep=',')\n",
    "\n",
    "df['risk_profile'] = df.apply(assign_risk_profile, axis=1)\n",
    "\n",
    "print('\\nSimulated Risk Profile Counts:')\n",
    "print(df['risk_profile'].value_counts())\n"
   ]
  },
  {
   "cell_type": "code",
   "execution_count": null,
   "id": "e2b0c17d",
   "metadata": {},
   "outputs": [],
   "source": [
    "\n",
    "#save new file\n",
    "df.to_csv('../data/bank_with_risk.csv', index=False)\n",
    "\n",
    "plt.figure(figsize=(10,4))\n",
    "sns.countplot(x='risk_profile', data=df)\n",
    "plt.title('Simulated Risk Profile Distribution')\n",
    "plt.show()"
   ]
  }
 ],
 "metadata": {
  "kernelspec": {
   "display_name": "Python 3",
   "language": "python",
   "name": "python3"
  },
  "language_info": {
   "codemirror_mode": {
    "name": "ipython",
    "version": 3
   },
   "file_extension": ".py",
   "mimetype": "text/x-python",
   "name": "python",
   "nbconvert_exporter": "python",
   "pygments_lexer": "ipython3",
   "version": "3.12.8"
  }
 },
 "nbformat": 4,
 "nbformat_minor": 5
}
