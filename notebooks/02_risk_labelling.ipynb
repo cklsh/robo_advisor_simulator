{
 "cells": [
  {
   "cell_type": "code",
   "execution_count": null,
   "id": "63dae99d",
   "metadata": {},
   "outputs": [
    {
     "ename": "SyntaxError",
     "evalue": "invalid syntax (3976820561.py, line 27)",
     "output_type": "error",
     "traceback": [
      "  \u001b[36mCell\u001b[39m\u001b[36m \u001b[39m\u001b[32mIn[5]\u001b[39m\u001b[32m, line 27\u001b[39m\n\u001b[31m    \u001b[39m\u001b[31mplt.show()import pandas as pd\u001b[39m\n              ^\n\u001b[31mSyntaxError\u001b[39m\u001b[31m:\u001b[39m invalid syntax\n"
     ]
    }
   ],
   "source": [
    "import pandas as pd\n",
    "import matplotlib.pyplot as plt\n",
    "import seaborn as sns\n",
    "import sys\n",
    "import os\n",
    "\n",
    "sys.path.append(os.path.abspath('../utils'))\n",
    "from risk_profile_rules import assign_risk_profile\n",
    "\n",
    "#load dataset\n",
    "df = pd.read_csv('../data/bank.csv', sep=',')\n",
    "\n",
    "df['risk_profile'] = df.apply(assign_risk_profile, axis=1)\n",
    "\n",
    "print('\\nSimulated Risk Profile Counts:')\n",
    "print(df['risk_profile'].value_counts())\n",
    "\n",
    "#save new file\n",
    "df.to_csv('../data/bank_with_risk_profile.csv', index=False)\n",
    "\n",
    "plt.figure(figsize=(10,4))\n",
    "sns.countplot(x='risk_profile', data=df)\n",
    "plt.title('Simulated Risk Profile Distribution')\n",
    "plt.show()"
   ]
  }
 ],
 "metadata": {
  "kernelspec": {
   "display_name": "Python 3",
   "language": "python",
   "name": "python3"
  },
  "language_info": {
   "codemirror_mode": {
    "name": "ipython",
    "version": 3
   },
   "file_extension": ".py",
   "mimetype": "text/x-python",
   "name": "python",
   "nbconvert_exporter": "python",
   "pygments_lexer": "ipython3",
   "version": "3.12.8"
  }
 },
 "nbformat": 4,
 "nbformat_minor": 5
}
