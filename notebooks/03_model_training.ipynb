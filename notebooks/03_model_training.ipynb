{
 "cells": [
  {
   "cell_type": "code",
   "execution_count": 4,
   "id": "a2f849ba",
   "metadata": {},
   "outputs": [
    {
     "name": "stdout",
     "output_type": "stream",
     "text": [
      "Risk profile distribution before encoding:\n",
      "risk_profile\n",
      "Conservative    5759\n",
      "Moderate        4030\n",
      "Aggresive       1373\n",
      "Name: count, dtype: int64\n",
      "\n",
      "Classification report:\n",
      "              precision    recall  f1-score   support\n",
      "\n",
      "           0       0.92      0.95      0.93       275\n",
      "           1       0.93      0.92      0.92      1152\n",
      "           2       0.86      0.87      0.86       806\n",
      "\n",
      "    accuracy                           0.90      2233\n",
      "   macro avg       0.90      0.91      0.91      2233\n",
      "weighted avg       0.90      0.90      0.90      2233\n",
      "\n",
      "Model and encoders saved to app/\n"
     ]
    }
   ],
   "source": [
    "import pandas as pd\n",
    "from sklearn.model_selection import train_test_split\n",
    "from sklearn.tree import DecisionTreeClassifier\n",
    "from sklearn.metrics import classification_report\n",
    "import joblib\n",
    "import sys\n",
    "import os\n",
    "\n",
    "sys.path.append(os.path.abspath('../utils'))\n",
    "from risk_profile_rules import assign_risk_profile\n",
    "from preprocessing import clean_and_encode_data\n",
    "df = pd.read_csv(\"../data/bank.csv\", sep=',')\n",
    "\n",
    "#risk profile rules\n",
    "df['risk_profile'] = df.apply(assign_risk_profile, axis=1)\n",
    "print(\"Risk profile distribution before encoding:\")\n",
    "print(df['risk_profile'].value_counts())\n",
    "\n",
    "#encode categorical features\n",
    "df_encoded, encoders = clean_and_encode_data(df)\n",
    "\n",
    "X = df_encoded.drop(columns=['risk_profile'])\n",
    "y = df_encoded['risk_profile']\n",
    "\n",
    "# train test \n",
    "X_train, X_test, y_train, y_test = train_test_split(\n",
    "    X, y, test_size=0.2, random_state=42, stratify=y\n",
    ")\n",
    "\n",
    "#classifier\n",
    "clf = DecisionTreeClassifier(max_depth=5, random_state=42)\n",
    "clf.fit(X_train, y_train)\n",
    "\n",
    "#report\n",
    "y_pred = clf.predict(X_test)\n",
    "print(\"\\nClassification report:\")\n",
    "print(classification_report(y_test, y_pred))\n",
    "\n",
    "#save model and encoders\n",
    "joblib.dump(clf, '../app/model.pkl')\n",
    "joblib.dump(encoders, '../app/encoders.pkl')\n",
    "print(\"Model and encoders saved to app/\")\n"
   ]
  }
 ],
 "metadata": {
  "kernelspec": {
   "display_name": "Python 3",
   "language": "python",
   "name": "python3"
  },
  "language_info": {
   "codemirror_mode": {
    "name": "ipython",
    "version": 3
   },
   "file_extension": ".py",
   "mimetype": "text/x-python",
   "name": "python",
   "nbconvert_exporter": "python",
   "pygments_lexer": "ipython3",
   "version": "3.12.8"
  }
 },
 "nbformat": 4,
 "nbformat_minor": 5
}
